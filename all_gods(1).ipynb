{
  "nbformat": 4,
  "nbformat_minor": 0,
  "metadata": {
    "colab": {
      "provenance": []
    },
    "kernelspec": {
      "name": "python3",
      "display_name": "Python 3"
    },
    "language_info": {
      "name": "python"
    }
  },
  "cells": [
    {
      "cell_type": "code",
      "execution_count": null,
      "metadata": {
        "id": "dAJC2m8cOKD2"
      },
      "outputs": [],
      "source": [
        "import pprint\n",
        "import requests\n",
        "import json\n",
        "import re\n",
        "import pandas as pd\n",
        "from pydantic import BaseModel\n",
        "import logging as logger\n",
        "from typing import Optional\n",
        "import pprint\n",
        "\n",
        "\n",
        "# Question\n",
        "query= \"how to get moksha\"\n",
        "# User1: Shiv, Ram, Krishna, Hanuman, others\n",
        "user1= \"Shiv\"\n",
        "# User2\n",
        "user2= \"Anupama\"\n",
        "#model name\n",
        "modelname=  \"sonar-reasoning\"\n",
        "#api key\n",
        "api_key = \"\"\n",
        "gender = \"female\"\n",
        "#response\n",
        "\n",
        "try:\n",
        "\n",
        "    response = requests.post(\"https://amaze18--krishna-krishna-uvach.modal.run\", \\\n",
        "                            json={\"query\": query, \"api_key\":api_key, \"modelname\":  modelname,\\\n",
        "                                  \"user1\": user1, \"user2\": user2, \"gender\": gender})\n",
        "    pprint.pprint(response.text)\n",
        "except Exception as e:\n",
        "  #print(e)\n",
        "  print(response.json())\n",
        "\n",
        "#https://amaze18--krishna-conscious-krishna-uvach.modal.run"
      ]
    }
  ]
}